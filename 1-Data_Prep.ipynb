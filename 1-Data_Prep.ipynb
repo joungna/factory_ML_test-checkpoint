{
 "cells": [
  {
   "cell_type": "markdown",
   "metadata": {},
   "source": [
    "## Analyze 2016 factory seoul\n",
    "도심 봉제산업 생태계 네트워크 분석 프로젝트 - 중랑구를 중심으로\n",
    "\n",
    "작업프레임 참조 : http://pbpython.com/notebook-process.html "
   ]
  },
  {
   "cell_type": "markdown",
   "metadata": {},
   "source": []
  },
  {
   "cell_type": "markdown",
   "metadata": {},
   "source": [
    "## Data Sources\n",
    "중랑구 봉제 기업이전의사 분석 \n",
    "작성 정락현, joungna@hotmail.com"
   ]
  },
  {
   "cell_type": "markdown",
   "metadata": {},
   "source": [
    "## Changes\n",
    "2016.6.4 중랑구 묵동일원 봉제조사 \n",
    "2018.11.15 초기 데이터 분석 시작\n",
    "2018.11.20 설문 재조사 추진"
   ]
  },
  {
   "cell_type": "code",
   "execution_count": 61,
   "metadata": {},
   "outputs": [],
   "source": [
    "import pandas as pd\n",
    "from pathlib import Path\n",
    "from datetime import datetime"
   ]
  },
  {
   "cell_type": "markdown",
   "metadata": {},
   "source": [
    "#### Data Set File Locations"
   ]
  },
  {
   "cell_type": "code",
   "execution_count": 82,
   "metadata": {},
   "outputs": [],
   "source": [
    "today = datetime.today()\n",
    "train = Path.cwd() / \"data\" / \"raw\" / \"train.csv\"\n",
    "test = Path.cwd() / \"data\" / \"raw\" / \"test.csv\"\n",
    "#pipeline_file = Path.cwd() / \"data\" / \"raw\" / \"pipeline_data.xlsx\"\n",
    "summary_file = Path.cwd() / \"data\" / \"processed\" / f\"summary_{today:%b-%d-%Y}.pkl\""
   ]
  },
  {
   "cell_type": "code",
   "execution_count": 83,
   "metadata": {},
   "outputs": [],
   "source": [
    "df_train = pd.read_csv(train)\n",
    "df_test = pd.read_csv(test)"
   ]
  },
  {
   "cell_type": "code",
   "execution_count": 85,
   "metadata": {},
   "outputs": [
    {
     "data": {
      "text/html": [
       "<div>\n",
       "<style scoped>\n",
       "    .dataframe tbody tr th:only-of-type {\n",
       "        vertical-align: middle;\n",
       "    }\n",
       "\n",
       "    .dataframe tbody tr th {\n",
       "        vertical-align: top;\n",
       "    }\n",
       "\n",
       "    .dataframe thead th {\n",
       "        text-align: right;\n",
       "    }\n",
       "</style>\n",
       "<table border=\"1\" class=\"dataframe\">\n",
       "  <thead>\n",
       "    <tr style=\"text-align: right;\">\n",
       "      <th></th>\n",
       "      <th>no</th>\n",
       "      <th>Organization type</th>\n",
       "      <th>Owning</th>\n",
       "      <th>deposit</th>\n",
       "      <th>monthly</th>\n",
       "      <th>location</th>\n",
       "      <th>area</th>\n",
       "      <th>stay</th>\n",
       "      <th>industry</th>\n",
       "      <th>manpower</th>\n",
       "      <th>sub_term</th>\n",
       "      <th>association</th>\n",
       "      <th>Government support</th>\n",
       "      <th>move_Intention</th>\n",
       "      <th>move_area</th>\n",
       "      <th>move_monthly</th>\n",
       "      <th>move_deposit</th>\n",
       "    </tr>\n",
       "  </thead>\n",
       "  <tbody>\n",
       "    <tr>\n",
       "      <th>0</th>\n",
       "      <td>71</td>\n",
       "      <td>1</td>\n",
       "      <td>3</td>\n",
       "      <td>2000</td>\n",
       "      <td>165</td>\n",
       "      <td>4</td>\n",
       "      <td>90</td>\n",
       "      <td>2000</td>\n",
       "      <td>5</td>\n",
       "      <td>14</td>\n",
       "      <td>2</td>\n",
       "      <td>2</td>\n",
       "      <td>1</td>\n",
       "      <td>1</td>\n",
       "      <td>60</td>\n",
       "      <td>60</td>\n",
       "      <td>2000</td>\n",
       "    </tr>\n",
       "    <tr>\n",
       "      <th>1</th>\n",
       "      <td>72</td>\n",
       "      <td>2</td>\n",
       "      <td>3</td>\n",
       "      <td>2500</td>\n",
       "      <td>176</td>\n",
       "      <td>3</td>\n",
       "      <td>25</td>\n",
       "      <td>2014</td>\n",
       "      <td>5</td>\n",
       "      <td>2</td>\n",
       "      <td>2</td>\n",
       "      <td>2</td>\n",
       "      <td>1</td>\n",
       "      <td>1</td>\n",
       "      <td>50</td>\n",
       "      <td>40</td>\n",
       "      <td>1000</td>\n",
       "    </tr>\n",
       "    <tr>\n",
       "      <th>2</th>\n",
       "      <td>73</td>\n",
       "      <td>1</td>\n",
       "      <td>3</td>\n",
       "      <td>500</td>\n",
       "      <td>35</td>\n",
       "      <td>2</td>\n",
       "      <td>20</td>\n",
       "      <td>2014</td>\n",
       "      <td>4</td>\n",
       "      <td>3</td>\n",
       "      <td>1</td>\n",
       "      <td>2</td>\n",
       "      <td>1</td>\n",
       "      <td>0</td>\n",
       "      <td>0</td>\n",
       "      <td>0</td>\n",
       "      <td>0</td>\n",
       "    </tr>\n",
       "    <tr>\n",
       "      <th>3</th>\n",
       "      <td>74</td>\n",
       "      <td>2</td>\n",
       "      <td>3</td>\n",
       "      <td>1000</td>\n",
       "      <td>105</td>\n",
       "      <td>2</td>\n",
       "      <td>50</td>\n",
       "      <td>2013</td>\n",
       "      <td>5</td>\n",
       "      <td>5</td>\n",
       "      <td>1</td>\n",
       "      <td>2</td>\n",
       "      <td>1</td>\n",
       "      <td>1</td>\n",
       "      <td>50</td>\n",
       "      <td>100</td>\n",
       "      <td>1000</td>\n",
       "    </tr>\n",
       "    <tr>\n",
       "      <th>4</th>\n",
       "      <td>75</td>\n",
       "      <td>1</td>\n",
       "      <td>3</td>\n",
       "      <td>2000</td>\n",
       "      <td>80</td>\n",
       "      <td>4</td>\n",
       "      <td>35</td>\n",
       "      <td>2006</td>\n",
       "      <td>5</td>\n",
       "      <td>3</td>\n",
       "      <td>2</td>\n",
       "      <td>1</td>\n",
       "      <td>1</td>\n",
       "      <td>0</td>\n",
       "      <td>0</td>\n",
       "      <td>0</td>\n",
       "      <td>0</td>\n",
       "    </tr>\n",
       "  </tbody>\n",
       "</table>\n",
       "</div>"
      ],
      "text/plain": [
       "   no  Organization type  Owning  deposit  monthly  location  area  stay  \\\n",
       "0  71                  1       3     2000      165         4    90  2000   \n",
       "1  72                  2       3     2500      176         3    25  2014   \n",
       "2  73                  1       3      500       35         2    20  2014   \n",
       "3  74                  2       3     1000      105         2    50  2013   \n",
       "4  75                  1       3     2000       80         4    35  2006   \n",
       "\n",
       "   industry  manpower  sub_term  association  Government support  \\\n",
       "0         5        14         2            2                   1   \n",
       "1         5         2         2            2                   1   \n",
       "2         4         3         1            2                   1   \n",
       "3         5         5         1            2                   1   \n",
       "4         5         3         2            1                   1   \n",
       "\n",
       "   move_Intention  move_area  move_monthly  move_deposit  \n",
       "0               1         60            60          2000  \n",
       "1               1         50            40          1000  \n",
       "2               0          0             0             0  \n",
       "3               1         50           100          1000  \n",
       "4               0          0             0             0  "
      ]
     },
     "execution_count": 85,
     "metadata": {},
     "output_type": "execute_result"
    }
   ],
   "source": [
    "df_test.head()"
   ]
  },
  {
   "cell_type": "markdown",
   "metadata": {},
   "source": [
    "#### Column Cleanup\n",
    "- 빈칸 이동(삭제), consistency columns 이름 수정"
   ]
  },
  {
   "cell_type": "code",
   "execution_count": 73,
   "metadata": {},
   "outputs": [],
   "source": [
    "# https://stackoverflow.com/questions/30763351/removing-space-in-dataframe-python\n",
    "df.columns = [x.strip() for x in df.columns]"
   ]
  },
  {
   "cell_type": "code",
   "execution_count": 74,
   "metadata": {},
   "outputs": [],
   "source": [
    "cols_to_rename = {'col1': 'New_Name'}\n",
    "df.rename(columns=cols_to_rename, inplace=True)"
   ]
  },
  {
   "cell_type": "markdown",
   "metadata": {},
   "source": [
    "#### Clean Up Data Types\n",
    "- "
   ]
  },
  {
   "cell_type": "code",
   "execution_count": 75,
   "metadata": {},
   "outputs": [
    {
     "data": {
      "text/plain": [
       "no                    int64\n",
       "Organization type     int64\n",
       "Owning                int64\n",
       "deposit               int64\n",
       "monthly               int64\n",
       "location              int64\n",
       "area                  int64\n",
       "stay                  int64\n",
       "industry              int64\n",
       "manpower              int64\n",
       "sub_term              int64\n",
       "association           int64\n",
       "Government support    int64\n",
       "move_Intention        int64\n",
       "move_area             int64\n",
       "move_monthly          int64\n",
       "move_deposit          int64\n",
       "dtype: object"
      ]
     },
     "execution_count": 75,
     "metadata": {},
     "output_type": "execute_result"
    }
   ],
   "source": [
    "df.dtypes"
   ]
  },
  {
   "cell_type": "markdown",
   "metadata": {},
   "source": [
    "#### Data Manipulation\n",
    "- 인위적인 데이터 조작을 했을 경우 기입"
   ]
  },
  {
   "cell_type": "markdown",
   "metadata": {},
   "source": [
    "#### Save output file into processed directory\n",
    "작업완료 파일 저장"
   ]
  },
  {
   "cell_type": "code",
   "execution_count": 70,
   "metadata": {},
   "outputs": [],
   "source": [
    "df.to_pickle(summary_file)"
   ]
  },
  {
   "cell_type": "markdown",
   "metadata": {},
   "source": [
    "#### (참고)파이썬 객체 관리 확인\n",
    "생성된 파이썬 객체를 파일로 저장하는 경우에는 보통 .pkl이라는 확장자를 사용\n"
   ]
  },
  {
   "cell_type": "code",
   "execution_count": 86,
   "metadata": {},
   "outputs": [],
   "source": [
    "from pickle import dump, load\n",
    "f = open(\"data/raw/test.csv\", \"r\",encoding='cp949')\n"
   ]
  },
  {
   "cell_type": "code",
   "execution_count": null,
   "metadata": {},
   "outputs": [],
   "source": []
  }
 ],
 "metadata": {
  "kernelspec": {
   "display_name": "Python 3",
   "language": "python",
   "name": "python3"
  },
  "language_info": {
   "codemirror_mode": {
    "name": "ipython",
    "version": 3
   },
   "file_extension": ".py",
   "mimetype": "text/x-python",
   "name": "python",
   "nbconvert_exporter": "python",
   "pygments_lexer": "ipython3",
   "version": "3.6.7"
  }
 },
 "nbformat": 4,
 "nbformat_minor": 2
}
